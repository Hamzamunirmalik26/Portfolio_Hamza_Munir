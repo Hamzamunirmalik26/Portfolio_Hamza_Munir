{
  "cells": [
    {
      "cell_type": "markdown",
      "metadata": {
        "id": "tg6mBFuZZeH-"
      },
      "source": [
        "# - Data analysis of Adults."
      ]
    },
    {
      "cell_type": "markdown",
      "source": [
        "**We have data of adults and we want to explore what it contains and explore it to analyze it**"
      ],
      "metadata": {
        "id": "0i0CbwTN895H"
      }
    },
    {
      "cell_type": "markdown",
      "source": [
        "Importing the neccessory liberaries"
      ],
      "metadata": {
        "id": "oW5OQebS8fdD"
      }
    },
    {
      "cell_type": "code",
      "execution_count": null,
      "metadata": {
        "colab": {
          "base_uri": "https://localhost:8080/"
        },
        "id": "7Maotrt8dhWj",
        "outputId": "4a1b99a5-f1a7-4886-c05b-377ccd670415"
      },
      "outputs": [
        {
          "output_type": "stream",
          "name": "stderr",
          "text": [
            "<ipython-input-2-465e88a9d13b>:5: MatplotlibDeprecationWarning: The seaborn styles shipped by Matplotlib are deprecated since 3.6, as they no longer correspond to the styles shipped by seaborn. However, they will remain available as 'seaborn-v0_8-<style>'. Alternatively, directly use the seaborn API instead.\n",
            "  plt.style.use(\"seaborn\")\n"
          ]
        }
      ],
      "source": [
        "import pandas as pd\n",
        "import numpy as np\n",
        "import matplotlib.pyplot as plt\n",
        "import seaborn as sns\n",
        "plt.style.use(\"seaborn\")"
      ]
    },
    {
      "cell_type": "code",
      "execution_count": null,
      "metadata": {
        "id": "Mv_vySgSdhmv"
      },
      "outputs": [],
      "source": [
        "# Importing data\n",
        "\n",
        "df=pd.read_csv(\"adult.data\")"
      ]
    },
    {
      "cell_type": "code",
      "execution_count": null,
      "metadata": {
        "colab": {
          "base_uri": "https://localhost:8080/",
          "height": 143
        },
        "id": "w_fdJlOxdhs7",
        "outputId": "eeaf4c92-6d4c-4eda-c9f9-c5ea8e2274ee"
      },
      "outputs": [
        {
          "output_type": "execute_result",
          "data": {
            "text/plain": [
              "   39          State-gov   77516   Bachelors   13        Never-married  \\\n",
              "0  50   Self-emp-not-inc   83311   Bachelors   13   Married-civ-spouse   \n",
              "1  38            Private  215646     HS-grad    9             Divorced   \n",
              "2  53            Private  234721        11th    7   Married-civ-spouse   \n",
              "\n",
              "         Adm-clerical   Not-in-family   White   Male   2174   0   40  \\\n",
              "0     Exec-managerial         Husband   White   Male      0   0   13   \n",
              "1   Handlers-cleaners   Not-in-family   White   Male      0   0   40   \n",
              "2   Handlers-cleaners         Husband   Black   Male      0   0   40   \n",
              "\n",
              "    United-States   <=50K  \n",
              "0   United-States   <=50K  \n",
              "1   United-States   <=50K  \n",
              "2   United-States   <=50K  "
            ],
            "text/html": [
              "\n",
              "  <div id=\"df-ec5c4dc7-aac5-46e9-bb50-d6955f9a9a10\" class=\"colab-df-container\">\n",
              "    <div>\n",
              "<style scoped>\n",
              "    .dataframe tbody tr th:only-of-type {\n",
              "        vertical-align: middle;\n",
              "    }\n",
              "\n",
              "    .dataframe tbody tr th {\n",
              "        vertical-align: top;\n",
              "    }\n",
              "\n",
              "    .dataframe thead th {\n",
              "        text-align: right;\n",
              "    }\n",
              "</style>\n",
              "<table border=\"1\" class=\"dataframe\">\n",
              "  <thead>\n",
              "    <tr style=\"text-align: right;\">\n",
              "      <th></th>\n",
              "      <th>39</th>\n",
              "      <th>State-gov</th>\n",
              "      <th>77516</th>\n",
              "      <th>Bachelors</th>\n",
              "      <th>13</th>\n",
              "      <th>Never-married</th>\n",
              "      <th>Adm-clerical</th>\n",
              "      <th>Not-in-family</th>\n",
              "      <th>White</th>\n",
              "      <th>Male</th>\n",
              "      <th>2174</th>\n",
              "      <th>0</th>\n",
              "      <th>40</th>\n",
              "      <th>United-States</th>\n",
              "      <th>&lt;=50K</th>\n",
              "    </tr>\n",
              "  </thead>\n",
              "  <tbody>\n",
              "    <tr>\n",
              "      <th>0</th>\n",
              "      <td>50</td>\n",
              "      <td>Self-emp-not-inc</td>\n",
              "      <td>83311</td>\n",
              "      <td>Bachelors</td>\n",
              "      <td>13</td>\n",
              "      <td>Married-civ-spouse</td>\n",
              "      <td>Exec-managerial</td>\n",
              "      <td>Husband</td>\n",
              "      <td>White</td>\n",
              "      <td>Male</td>\n",
              "      <td>0</td>\n",
              "      <td>0</td>\n",
              "      <td>13</td>\n",
              "      <td>United-States</td>\n",
              "      <td>&lt;=50K</td>\n",
              "    </tr>\n",
              "    <tr>\n",
              "      <th>1</th>\n",
              "      <td>38</td>\n",
              "      <td>Private</td>\n",
              "      <td>215646</td>\n",
              "      <td>HS-grad</td>\n",
              "      <td>9</td>\n",
              "      <td>Divorced</td>\n",
              "      <td>Handlers-cleaners</td>\n",
              "      <td>Not-in-family</td>\n",
              "      <td>White</td>\n",
              "      <td>Male</td>\n",
              "      <td>0</td>\n",
              "      <td>0</td>\n",
              "      <td>40</td>\n",
              "      <td>United-States</td>\n",
              "      <td>&lt;=50K</td>\n",
              "    </tr>\n",
              "    <tr>\n",
              "      <th>2</th>\n",
              "      <td>53</td>\n",
              "      <td>Private</td>\n",
              "      <td>234721</td>\n",
              "      <td>11th</td>\n",
              "      <td>7</td>\n",
              "      <td>Married-civ-spouse</td>\n",
              "      <td>Handlers-cleaners</td>\n",
              "      <td>Husband</td>\n",
              "      <td>Black</td>\n",
              "      <td>Male</td>\n",
              "      <td>0</td>\n",
              "      <td>0</td>\n",
              "      <td>40</td>\n",
              "      <td>United-States</td>\n",
              "      <td>&lt;=50K</td>\n",
              "    </tr>\n",
              "  </tbody>\n",
              "</table>\n",
              "</div>\n",
              "    <div class=\"colab-df-buttons\">\n",
              "\n",
              "  <div class=\"colab-df-container\">\n",
              "    <button class=\"colab-df-convert\" onclick=\"convertToInteractive('df-ec5c4dc7-aac5-46e9-bb50-d6955f9a9a10')\"\n",
              "            title=\"Convert this dataframe to an interactive table.\"\n",
              "            style=\"display:none;\">\n",
              "\n",
              "  <svg xmlns=\"http://www.w3.org/2000/svg\" height=\"24px\" viewBox=\"0 -960 960 960\">\n",
              "    <path d=\"M120-120v-720h720v720H120Zm60-500h600v-160H180v160Zm220 220h160v-160H400v160Zm0 220h160v-160H400v160ZM180-400h160v-160H180v160Zm440 0h160v-160H620v160ZM180-180h160v-160H180v160Zm440 0h160v-160H620v160Z\"/>\n",
              "  </svg>\n",
              "    </button>\n",
              "\n",
              "  <style>\n",
              "    .colab-df-container {\n",
              "      display:flex;\n",
              "      gap: 12px;\n",
              "    }\n",
              "\n",
              "    .colab-df-convert {\n",
              "      background-color: #E8F0FE;\n",
              "      border: none;\n",
              "      border-radius: 50%;\n",
              "      cursor: pointer;\n",
              "      display: none;\n",
              "      fill: #1967D2;\n",
              "      height: 32px;\n",
              "      padding: 0 0 0 0;\n",
              "      width: 32px;\n",
              "    }\n",
              "\n",
              "    .colab-df-convert:hover {\n",
              "      background-color: #E2EBFA;\n",
              "      box-shadow: 0px 1px 2px rgba(60, 64, 67, 0.3), 0px 1px 3px 1px rgba(60, 64, 67, 0.15);\n",
              "      fill: #174EA6;\n",
              "    }\n",
              "\n",
              "    .colab-df-buttons div {\n",
              "      margin-bottom: 4px;\n",
              "    }\n",
              "\n",
              "    [theme=dark] .colab-df-convert {\n",
              "      background-color: #3B4455;\n",
              "      fill: #D2E3FC;\n",
              "    }\n",
              "\n",
              "    [theme=dark] .colab-df-convert:hover {\n",
              "      background-color: #434B5C;\n",
              "      box-shadow: 0px 1px 3px 1px rgba(0, 0, 0, 0.15);\n",
              "      filter: drop-shadow(0px 1px 2px rgba(0, 0, 0, 0.3));\n",
              "      fill: #FFFFFF;\n",
              "    }\n",
              "  </style>\n",
              "\n",
              "    <script>\n",
              "      const buttonEl =\n",
              "        document.querySelector('#df-ec5c4dc7-aac5-46e9-bb50-d6955f9a9a10 button.colab-df-convert');\n",
              "      buttonEl.style.display =\n",
              "        google.colab.kernel.accessAllowed ? 'block' : 'none';\n",
              "\n",
              "      async function convertToInteractive(key) {\n",
              "        const element = document.querySelector('#df-ec5c4dc7-aac5-46e9-bb50-d6955f9a9a10');\n",
              "        const dataTable =\n",
              "          await google.colab.kernel.invokeFunction('convertToInteractive',\n",
              "                                                    [key], {});\n",
              "        if (!dataTable) return;\n",
              "\n",
              "        const docLinkHtml = 'Like what you see? Visit the ' +\n",
              "          '<a target=\"_blank\" href=https://colab.research.google.com/notebooks/data_table.ipynb>data table notebook</a>'\n",
              "          + ' to learn more about interactive tables.';\n",
              "        element.innerHTML = '';\n",
              "        dataTable['output_type'] = 'display_data';\n",
              "        await google.colab.output.renderOutput(dataTable, element);\n",
              "        const docLink = document.createElement('div');\n",
              "        docLink.innerHTML = docLinkHtml;\n",
              "        element.appendChild(docLink);\n",
              "      }\n",
              "    </script>\n",
              "  </div>\n",
              "\n",
              "\n",
              "<div id=\"df-91e7f8d3-54bc-4d05-b5eb-151de98f69b0\">\n",
              "  <button class=\"colab-df-quickchart\" onclick=\"quickchart('df-91e7f8d3-54bc-4d05-b5eb-151de98f69b0')\"\n",
              "            title=\"Suggest charts\"\n",
              "            style=\"display:none;\">\n",
              "\n",
              "<svg xmlns=\"http://www.w3.org/2000/svg\" height=\"24px\"viewBox=\"0 0 24 24\"\n",
              "     width=\"24px\">\n",
              "    <g>\n",
              "        <path d=\"M19 3H5c-1.1 0-2 .9-2 2v14c0 1.1.9 2 2 2h14c1.1 0 2-.9 2-2V5c0-1.1-.9-2-2-2zM9 17H7v-7h2v7zm4 0h-2V7h2v10zm4 0h-2v-4h2v4z\"/>\n",
              "    </g>\n",
              "</svg>\n",
              "  </button>\n",
              "\n",
              "<style>\n",
              "  .colab-df-quickchart {\n",
              "      --bg-color: #E8F0FE;\n",
              "      --fill-color: #1967D2;\n",
              "      --hover-bg-color: #E2EBFA;\n",
              "      --hover-fill-color: #174EA6;\n",
              "      --disabled-fill-color: #AAA;\n",
              "      --disabled-bg-color: #DDD;\n",
              "  }\n",
              "\n",
              "  [theme=dark] .colab-df-quickchart {\n",
              "      --bg-color: #3B4455;\n",
              "      --fill-color: #D2E3FC;\n",
              "      --hover-bg-color: #434B5C;\n",
              "      --hover-fill-color: #FFFFFF;\n",
              "      --disabled-bg-color: #3B4455;\n",
              "      --disabled-fill-color: #666;\n",
              "  }\n",
              "\n",
              "  .colab-df-quickchart {\n",
              "    background-color: var(--bg-color);\n",
              "    border: none;\n",
              "    border-radius: 50%;\n",
              "    cursor: pointer;\n",
              "    display: none;\n",
              "    fill: var(--fill-color);\n",
              "    height: 32px;\n",
              "    padding: 0;\n",
              "    width: 32px;\n",
              "  }\n",
              "\n",
              "  .colab-df-quickchart:hover {\n",
              "    background-color: var(--hover-bg-color);\n",
              "    box-shadow: 0 1px 2px rgba(60, 64, 67, 0.3), 0 1px 3px 1px rgba(60, 64, 67, 0.15);\n",
              "    fill: var(--button-hover-fill-color);\n",
              "  }\n",
              "\n",
              "  .colab-df-quickchart-complete:disabled,\n",
              "  .colab-df-quickchart-complete:disabled:hover {\n",
              "    background-color: var(--disabled-bg-color);\n",
              "    fill: var(--disabled-fill-color);\n",
              "    box-shadow: none;\n",
              "  }\n",
              "\n",
              "  .colab-df-spinner {\n",
              "    border: 2px solid var(--fill-color);\n",
              "    border-color: transparent;\n",
              "    border-bottom-color: var(--fill-color);\n",
              "    animation:\n",
              "      spin 1s steps(1) infinite;\n",
              "  }\n",
              "\n",
              "  @keyframes spin {\n",
              "    0% {\n",
              "      border-color: transparent;\n",
              "      border-bottom-color: var(--fill-color);\n",
              "      border-left-color: var(--fill-color);\n",
              "    }\n",
              "    20% {\n",
              "      border-color: transparent;\n",
              "      border-left-color: var(--fill-color);\n",
              "      border-top-color: var(--fill-color);\n",
              "    }\n",
              "    30% {\n",
              "      border-color: transparent;\n",
              "      border-left-color: var(--fill-color);\n",
              "      border-top-color: var(--fill-color);\n",
              "      border-right-color: var(--fill-color);\n",
              "    }\n",
              "    40% {\n",
              "      border-color: transparent;\n",
              "      border-right-color: var(--fill-color);\n",
              "      border-top-color: var(--fill-color);\n",
              "    }\n",
              "    60% {\n",
              "      border-color: transparent;\n",
              "      border-right-color: var(--fill-color);\n",
              "    }\n",
              "    80% {\n",
              "      border-color: transparent;\n",
              "      border-right-color: var(--fill-color);\n",
              "      border-bottom-color: var(--fill-color);\n",
              "    }\n",
              "    90% {\n",
              "      border-color: transparent;\n",
              "      border-bottom-color: var(--fill-color);\n",
              "    }\n",
              "  }\n",
              "</style>\n",
              "\n",
              "  <script>\n",
              "    async function quickchart(key) {\n",
              "      const quickchartButtonEl =\n",
              "        document.querySelector('#' + key + ' button');\n",
              "      quickchartButtonEl.disabled = true;  // To prevent multiple clicks.\n",
              "      quickchartButtonEl.classList.add('colab-df-spinner');\n",
              "      try {\n",
              "        const charts = await google.colab.kernel.invokeFunction(\n",
              "            'suggestCharts', [key], {});\n",
              "      } catch (error) {\n",
              "        console.error('Error during call to suggestCharts:', error);\n",
              "      }\n",
              "      quickchartButtonEl.classList.remove('colab-df-spinner');\n",
              "      quickchartButtonEl.classList.add('colab-df-quickchart-complete');\n",
              "    }\n",
              "    (() => {\n",
              "      let quickchartButtonEl =\n",
              "        document.querySelector('#df-91e7f8d3-54bc-4d05-b5eb-151de98f69b0 button');\n",
              "      quickchartButtonEl.style.display =\n",
              "        google.colab.kernel.accessAllowed ? 'block' : 'none';\n",
              "    })();\n",
              "  </script>\n",
              "</div>\n",
              "\n",
              "    </div>\n",
              "  </div>\n"
            ],
            "application/vnd.google.colaboratory.intrinsic+json": {
              "type": "dataframe",
              "variable_name": "df",
              "summary": "{\n  \"name\": \"df\",\n  \"rows\": 32560,\n  \"fields\": [\n    {\n      \"column\": \"39\",\n      \"properties\": {\n        \"dtype\": \"number\",\n        \"std\": 13,\n        \"min\": 17,\n        \"max\": 90,\n        \"num_unique_values\": 73,\n        \"samples\": [\n          37,\n          73,\n          59\n        ],\n        \"semantic_type\": \"\",\n        \"description\": \"\"\n      }\n    },\n    {\n      \"column\": \" State-gov\",\n      \"properties\": {\n        \"dtype\": \"category\",\n        \"num_unique_values\": 9,\n        \"samples\": [\n          \" Without-pay\",\n          \" Private\",\n          \" ?\"\n        ],\n        \"semantic_type\": \"\",\n        \"description\": \"\"\n      }\n    },\n    {\n      \"column\": \" 77516\",\n      \"properties\": {\n        \"dtype\": \"number\",\n        \"std\": 105549,\n        \"min\": 12285,\n        \"max\": 1484705,\n        \"num_unique_values\": 21647,\n        \"samples\": [\n          78036,\n          201481,\n          558490\n        ],\n        \"semantic_type\": \"\",\n        \"description\": \"\"\n      }\n    },\n    {\n      \"column\": \" Bachelors\",\n      \"properties\": {\n        \"dtype\": \"category\",\n        \"num_unique_values\": 16,\n        \"samples\": [\n          \" Bachelors\",\n          \" HS-grad\",\n          \" Some-college\"\n        ],\n        \"semantic_type\": \"\",\n        \"description\": \"\"\n      }\n    },\n    {\n      \"column\": \" 13\",\n      \"properties\": {\n        \"dtype\": \"number\",\n        \"std\": 2,\n        \"min\": 1,\n        \"max\": 16,\n        \"num_unique_values\": 16,\n        \"samples\": [\n          13,\n          9,\n          10\n        ],\n        \"semantic_type\": \"\",\n        \"description\": \"\"\n      }\n    },\n    {\n      \"column\": \" Never-married\",\n      \"properties\": {\n        \"dtype\": \"category\",\n        \"num_unique_values\": 7,\n        \"samples\": [\n          \" Married-civ-spouse\",\n          \" Divorced\",\n          \" Married-AF-spouse\"\n        ],\n        \"semantic_type\": \"\",\n        \"description\": \"\"\n      }\n    },\n    {\n      \"column\": \" Adm-clerical\",\n      \"properties\": {\n        \"dtype\": \"category\",\n        \"num_unique_values\": 15,\n        \"samples\": [\n          \" Machine-op-inspct\",\n          \" ?\",\n          \" Exec-managerial\"\n        ],\n        \"semantic_type\": \"\",\n        \"description\": \"\"\n      }\n    },\n    {\n      \"column\": \" Not-in-family\",\n      \"properties\": {\n        \"dtype\": \"category\",\n        \"num_unique_values\": 6,\n        \"samples\": [\n          \" Husband\",\n          \" Not-in-family\",\n          \" Other-relative\"\n        ],\n        \"semantic_type\": \"\",\n        \"description\": \"\"\n      }\n    },\n    {\n      \"column\": \" White\",\n      \"properties\": {\n        \"dtype\": \"category\",\n        \"num_unique_values\": 5,\n        \"samples\": [\n          \" Black\",\n          \" Other\",\n          \" Asian-Pac-Islander\"\n        ],\n        \"semantic_type\": \"\",\n        \"description\": \"\"\n      }\n    },\n    {\n      \"column\": \" Male\",\n      \"properties\": {\n        \"dtype\": \"category\",\n        \"num_unique_values\": 2,\n        \"samples\": [\n          \" Female\",\n          \" Male\"\n        ],\n        \"semantic_type\": \"\",\n        \"description\": \"\"\n      }\n    },\n    {\n      \"column\": \" 2174\",\n      \"properties\": {\n        \"dtype\": \"number\",\n        \"std\": 7385,\n        \"min\": 0,\n        \"max\": 99999,\n        \"num_unique_values\": 119,\n        \"samples\": [\n          3781,\n          15831\n        ],\n        \"semantic_type\": \"\",\n        \"description\": \"\"\n      }\n    },\n    {\n      \"column\": \" 0\",\n      \"properties\": {\n        \"dtype\": \"number\",\n        \"std\": 402,\n        \"min\": 0,\n        \"max\": 4356,\n        \"num_unique_values\": 92,\n        \"samples\": [\n          419,\n          2051\n        ],\n        \"semantic_type\": \"\",\n        \"description\": \"\"\n      }\n    },\n    {\n      \"column\": \" 40\",\n      \"properties\": {\n        \"dtype\": \"number\",\n        \"std\": 12,\n        \"min\": 1,\n        \"max\": 99,\n        \"num_unique_values\": 94,\n        \"samples\": [\n          6,\n          22\n        ],\n        \"semantic_type\": \"\",\n        \"description\": \"\"\n      }\n    },\n    {\n      \"column\": \" United-States\",\n      \"properties\": {\n        \"dtype\": \"category\",\n        \"num_unique_values\": 42,\n        \"samples\": [\n          \" El-Salvador\",\n          \" Philippines\"\n        ],\n        \"semantic_type\": \"\",\n        \"description\": \"\"\n      }\n    },\n    {\n      \"column\": \" <=50K\",\n      \"properties\": {\n        \"dtype\": \"category\",\n        \"num_unique_values\": 2,\n        \"samples\": [\n          \" >50K\",\n          \" <=50K\"\n        ],\n        \"semantic_type\": \"\",\n        \"description\": \"\"\n      }\n    }\n  ]\n}"
            }
          },
          "metadata": {},
          "execution_count": 4
        }
      ],
      "source": [
        "df.head(3)"
      ]
    },
    {
      "cell_type": "markdown",
      "metadata": {
        "id": "xktsygUOhMW2"
      },
      "source": [
        "**it seems we do not have columns in our data but have them in our repository i will be using them and adding them manually**"
      ]
    },
    {
      "cell_type": "code",
      "execution_count": null,
      "metadata": {
        "id": "mpO2iMe1hCsC"
      },
      "outputs": [],
      "source": [
        "columns=[\"age\",\"workclass\",\"fnlwgt\",\"education\",'education-num','marital-status','occupation','relationship','race'\t,'sex','capital-gain','capital-loss','hours-per-week','native-country','salary']"
      ]
    },
    {
      "cell_type": "code",
      "execution_count": null,
      "metadata": {
        "id": "LW4KoN5ch6zq"
      },
      "outputs": [],
      "source": [
        "# Setting the columns\n",
        "df.columns=columns"
      ]
    },
    {
      "cell_type": "code",
      "execution_count": null,
      "metadata": {
        "colab": {
          "base_uri": "https://localhost:8080/",
          "height": 213
        },
        "id": "swf75Yebh72M",
        "outputId": "c9d796e6-699d-4a79-f64b-e0f34fd710e9"
      },
      "outputs": [
        {
          "output_type": "execute_result",
          "data": {
            "text/plain": [
              "   age          workclass  fnlwgt   education  education-num  \\\n",
              "0   50   Self-emp-not-inc   83311   Bachelors             13   \n",
              "1   38            Private  215646     HS-grad              9   \n",
              "2   53            Private  234721        11th              7   \n",
              "\n",
              "        marital-status          occupation    relationship    race    sex  \\\n",
              "0   Married-civ-spouse     Exec-managerial         Husband   White   Male   \n",
              "1             Divorced   Handlers-cleaners   Not-in-family   White   Male   \n",
              "2   Married-civ-spouse   Handlers-cleaners         Husband   Black   Male   \n",
              "\n",
              "   capital-gain  capital-loss  hours-per-week  native-country  salary  \n",
              "0             0             0              13   United-States   <=50K  \n",
              "1             0             0              40   United-States   <=50K  \n",
              "2             0             0              40   United-States   <=50K  "
            ],
            "text/html": [
              "\n",
              "  <div id=\"df-25ec693f-cd51-4d01-93e8-a5d42c7de1e3\" class=\"colab-df-container\">\n",
              "    <div>\n",
              "<style scoped>\n",
              "    .dataframe tbody tr th:only-of-type {\n",
              "        vertical-align: middle;\n",
              "    }\n",
              "\n",
              "    .dataframe tbody tr th {\n",
              "        vertical-align: top;\n",
              "    }\n",
              "\n",
              "    .dataframe thead th {\n",
              "        text-align: right;\n",
              "    }\n",
              "</style>\n",
              "<table border=\"1\" class=\"dataframe\">\n",
              "  <thead>\n",
              "    <tr style=\"text-align: right;\">\n",
              "      <th></th>\n",
              "      <th>age</th>\n",
              "      <th>workclass</th>\n",
              "      <th>fnlwgt</th>\n",
              "      <th>education</th>\n",
              "      <th>education-num</th>\n",
              "      <th>marital-status</th>\n",
              "      <th>occupation</th>\n",
              "      <th>relationship</th>\n",
              "      <th>race</th>\n",
              "      <th>sex</th>\n",
              "      <th>capital-gain</th>\n",
              "      <th>capital-loss</th>\n",
              "      <th>hours-per-week</th>\n",
              "      <th>native-country</th>\n",
              "      <th>salary</th>\n",
              "    </tr>\n",
              "  </thead>\n",
              "  <tbody>\n",
              "    <tr>\n",
              "      <th>0</th>\n",
              "      <td>50</td>\n",
              "      <td>Self-emp-not-inc</td>\n",
              "      <td>83311</td>\n",
              "      <td>Bachelors</td>\n",
              "      <td>13</td>\n",
              "      <td>Married-civ-spouse</td>\n",
              "      <td>Exec-managerial</td>\n",
              "      <td>Husband</td>\n",
              "      <td>White</td>\n",
              "      <td>Male</td>\n",
              "      <td>0</td>\n",
              "      <td>0</td>\n",
              "      <td>13</td>\n",
              "      <td>United-States</td>\n",
              "      <td>&lt;=50K</td>\n",
              "    </tr>\n",
              "    <tr>\n",
              "      <th>1</th>\n",
              "      <td>38</td>\n",
              "      <td>Private</td>\n",
              "      <td>215646</td>\n",
              "      <td>HS-grad</td>\n",
              "      <td>9</td>\n",
              "      <td>Divorced</td>\n",
              "      <td>Handlers-cleaners</td>\n",
              "      <td>Not-in-family</td>\n",
              "      <td>White</td>\n",
              "      <td>Male</td>\n",
              "      <td>0</td>\n",
              "      <td>0</td>\n",
              "      <td>40</td>\n",
              "      <td>United-States</td>\n",
              "      <td>&lt;=50K</td>\n",
              "    </tr>\n",
              "    <tr>\n",
              "      <th>2</th>\n",
              "      <td>53</td>\n",
              "      <td>Private</td>\n",
              "      <td>234721</td>\n",
              "      <td>11th</td>\n",
              "      <td>7</td>\n",
              "      <td>Married-civ-spouse</td>\n",
              "      <td>Handlers-cleaners</td>\n",
              "      <td>Husband</td>\n",
              "      <td>Black</td>\n",
              "      <td>Male</td>\n",
              "      <td>0</td>\n",
              "      <td>0</td>\n",
              "      <td>40</td>\n",
              "      <td>United-States</td>\n",
              "      <td>&lt;=50K</td>\n",
              "    </tr>\n",
              "  </tbody>\n",
              "</table>\n",
              "</div>\n",
              "    <div class=\"colab-df-buttons\">\n",
              "\n",
              "  <div class=\"colab-df-container\">\n",
              "    <button class=\"colab-df-convert\" onclick=\"convertToInteractive('df-25ec693f-cd51-4d01-93e8-a5d42c7de1e3')\"\n",
              "            title=\"Convert this dataframe to an interactive table.\"\n",
              "            style=\"display:none;\">\n",
              "\n",
              "  <svg xmlns=\"http://www.w3.org/2000/svg\" height=\"24px\" viewBox=\"0 -960 960 960\">\n",
              "    <path d=\"M120-120v-720h720v720H120Zm60-500h600v-160H180v160Zm220 220h160v-160H400v160Zm0 220h160v-160H400v160ZM180-400h160v-160H180v160Zm440 0h160v-160H620v160ZM180-180h160v-160H180v160Zm440 0h160v-160H620v160Z\"/>\n",
              "  </svg>\n",
              "    </button>\n",
              "\n",
              "  <style>\n",
              "    .colab-df-container {\n",
              "      display:flex;\n",
              "      gap: 12px;\n",
              "    }\n",
              "\n",
              "    .colab-df-convert {\n",
              "      background-color: #E8F0FE;\n",
              "      border: none;\n",
              "      border-radius: 50%;\n",
              "      cursor: pointer;\n",
              "      display: none;\n",
              "      fill: #1967D2;\n",
              "      height: 32px;\n",
              "      padding: 0 0 0 0;\n",
              "      width: 32px;\n",
              "    }\n",
              "\n",
              "    .colab-df-convert:hover {\n",
              "      background-color: #E2EBFA;\n",
              "      box-shadow: 0px 1px 2px rgba(60, 64, 67, 0.3), 0px 1px 3px 1px rgba(60, 64, 67, 0.15);\n",
              "      fill: #174EA6;\n",
              "    }\n",
              "\n",
              "    .colab-df-buttons div {\n",
              "      margin-bottom: 4px;\n",
              "    }\n",
              "\n",
              "    [theme=dark] .colab-df-convert {\n",
              "      background-color: #3B4455;\n",
              "      fill: #D2E3FC;\n",
              "    }\n",
              "\n",
              "    [theme=dark] .colab-df-convert:hover {\n",
              "      background-color: #434B5C;\n",
              "      box-shadow: 0px 1px 3px 1px rgba(0, 0, 0, 0.15);\n",
              "      filter: drop-shadow(0px 1px 2px rgba(0, 0, 0, 0.3));\n",
              "      fill: #FFFFFF;\n",
              "    }\n",
              "  </style>\n",
              "\n",
              "    <script>\n",
              "      const buttonEl =\n",
              "        document.querySelector('#df-25ec693f-cd51-4d01-93e8-a5d42c7de1e3 button.colab-df-convert');\n",
              "      buttonEl.style.display =\n",
              "        google.colab.kernel.accessAllowed ? 'block' : 'none';\n",
              "\n",
              "      async function convertToInteractive(key) {\n",
              "        const element = document.querySelector('#df-25ec693f-cd51-4d01-93e8-a5d42c7de1e3');\n",
              "        const dataTable =\n",
              "          await google.colab.kernel.invokeFunction('convertToInteractive',\n",
              "                                                    [key], {});\n",
              "        if (!dataTable) return;\n",
              "\n",
              "        const docLinkHtml = 'Like what you see? Visit the ' +\n",
              "          '<a target=\"_blank\" href=https://colab.research.google.com/notebooks/data_table.ipynb>data table notebook</a>'\n",
              "          + ' to learn more about interactive tables.';\n",
              "        element.innerHTML = '';\n",
              "        dataTable['output_type'] = 'display_data';\n",
              "        await google.colab.output.renderOutput(dataTable, element);\n",
              "        const docLink = document.createElement('div');\n",
              "        docLink.innerHTML = docLinkHtml;\n",
              "        element.appendChild(docLink);\n",
              "      }\n",
              "    </script>\n",
              "  </div>\n",
              "\n",
              "\n",
              "<div id=\"df-11e80d43-2c06-40b9-bc36-9b6aa0c1dff9\">\n",
              "  <button class=\"colab-df-quickchart\" onclick=\"quickchart('df-11e80d43-2c06-40b9-bc36-9b6aa0c1dff9')\"\n",
              "            title=\"Suggest charts\"\n",
              "            style=\"display:none;\">\n",
              "\n",
              "<svg xmlns=\"http://www.w3.org/2000/svg\" height=\"24px\"viewBox=\"0 0 24 24\"\n",
              "     width=\"24px\">\n",
              "    <g>\n",
              "        <path d=\"M19 3H5c-1.1 0-2 .9-2 2v14c0 1.1.9 2 2 2h14c1.1 0 2-.9 2-2V5c0-1.1-.9-2-2-2zM9 17H7v-7h2v7zm4 0h-2V7h2v10zm4 0h-2v-4h2v4z\"/>\n",
              "    </g>\n",
              "</svg>\n",
              "  </button>\n",
              "\n",
              "<style>\n",
              "  .colab-df-quickchart {\n",
              "      --bg-color: #E8F0FE;\n",
              "      --fill-color: #1967D2;\n",
              "      --hover-bg-color: #E2EBFA;\n",
              "      --hover-fill-color: #174EA6;\n",
              "      --disabled-fill-color: #AAA;\n",
              "      --disabled-bg-color: #DDD;\n",
              "  }\n",
              "\n",
              "  [theme=dark] .colab-df-quickchart {\n",
              "      --bg-color: #3B4455;\n",
              "      --fill-color: #D2E3FC;\n",
              "      --hover-bg-color: #434B5C;\n",
              "      --hover-fill-color: #FFFFFF;\n",
              "      --disabled-bg-color: #3B4455;\n",
              "      --disabled-fill-color: #666;\n",
              "  }\n",
              "\n",
              "  .colab-df-quickchart {\n",
              "    background-color: var(--bg-color);\n",
              "    border: none;\n",
              "    border-radius: 50%;\n",
              "    cursor: pointer;\n",
              "    display: none;\n",
              "    fill: var(--fill-color);\n",
              "    height: 32px;\n",
              "    padding: 0;\n",
              "    width: 32px;\n",
              "  }\n",
              "\n",
              "  .colab-df-quickchart:hover {\n",
              "    background-color: var(--hover-bg-color);\n",
              "    box-shadow: 0 1px 2px rgba(60, 64, 67, 0.3), 0 1px 3px 1px rgba(60, 64, 67, 0.15);\n",
              "    fill: var(--button-hover-fill-color);\n",
              "  }\n",
              "\n",
              "  .colab-df-quickchart-complete:disabled,\n",
              "  .colab-df-quickchart-complete:disabled:hover {\n",
              "    background-color: var(--disabled-bg-color);\n",
              "    fill: var(--disabled-fill-color);\n",
              "    box-shadow: none;\n",
              "  }\n",
              "\n",
              "  .colab-df-spinner {\n",
              "    border: 2px solid var(--fill-color);\n",
              "    border-color: transparent;\n",
              "    border-bottom-color: var(--fill-color);\n",
              "    animation:\n",
              "      spin 1s steps(1) infinite;\n",
              "  }\n",
              "\n",
              "  @keyframes spin {\n",
              "    0% {\n",
              "      border-color: transparent;\n",
              "      border-bottom-color: var(--fill-color);\n",
              "      border-left-color: var(--fill-color);\n",
              "    }\n",
              "    20% {\n",
              "      border-color: transparent;\n",
              "      border-left-color: var(--fill-color);\n",
              "      border-top-color: var(--fill-color);\n",
              "    }\n",
              "    30% {\n",
              "      border-color: transparent;\n",
              "      border-left-color: var(--fill-color);\n",
              "      border-top-color: var(--fill-color);\n",
              "      border-right-color: var(--fill-color);\n",
              "    }\n",
              "    40% {\n",
              "      border-color: transparent;\n",
              "      border-right-color: var(--fill-color);\n",
              "      border-top-color: var(--fill-color);\n",
              "    }\n",
              "    60% {\n",
              "      border-color: transparent;\n",
              "      border-right-color: var(--fill-color);\n",
              "    }\n",
              "    80% {\n",
              "      border-color: transparent;\n",
              "      border-right-color: var(--fill-color);\n",
              "      border-bottom-color: var(--fill-color);\n",
              "    }\n",
              "    90% {\n",
              "      border-color: transparent;\n",
              "      border-bottom-color: var(--fill-color);\n",
              "    }\n",
              "  }\n",
              "</style>\n",
              "\n",
              "  <script>\n",
              "    async function quickchart(key) {\n",
              "      const quickchartButtonEl =\n",
              "        document.querySelector('#' + key + ' button');\n",
              "      quickchartButtonEl.disabled = true;  // To prevent multiple clicks.\n",
              "      quickchartButtonEl.classList.add('colab-df-spinner');\n",
              "      try {\n",
              "        const charts = await google.colab.kernel.invokeFunction(\n",
              "            'suggestCharts', [key], {});\n",
              "      } catch (error) {\n",
              "        console.error('Error during call to suggestCharts:', error);\n",
              "      }\n",
              "      quickchartButtonEl.classList.remove('colab-df-spinner');\n",
              "      quickchartButtonEl.classList.add('colab-df-quickchart-complete');\n",
              "    }\n",
              "    (() => {\n",
              "      let quickchartButtonEl =\n",
              "        document.querySelector('#df-11e80d43-2c06-40b9-bc36-9b6aa0c1dff9 button');\n",
              "      quickchartButtonEl.style.display =\n",
              "        google.colab.kernel.accessAllowed ? 'block' : 'none';\n",
              "    })();\n",
              "  </script>\n",
              "</div>\n",
              "\n",
              "    </div>\n",
              "  </div>\n"
            ],
            "application/vnd.google.colaboratory.intrinsic+json": {
              "type": "dataframe",
              "variable_name": "df",
              "summary": "{\n  \"name\": \"df\",\n  \"rows\": 32560,\n  \"fields\": [\n    {\n      \"column\": \"age\",\n      \"properties\": {\n        \"dtype\": \"number\",\n        \"std\": 13,\n        \"min\": 17,\n        \"max\": 90,\n        \"num_unique_values\": 73,\n        \"samples\": [\n          37,\n          73,\n          59\n        ],\n        \"semantic_type\": \"\",\n        \"description\": \"\"\n      }\n    },\n    {\n      \"column\": \"workclass\",\n      \"properties\": {\n        \"dtype\": \"category\",\n        \"num_unique_values\": 9,\n        \"samples\": [\n          \" Without-pay\",\n          \" Private\",\n          \" ?\"\n        ],\n        \"semantic_type\": \"\",\n        \"description\": \"\"\n      }\n    },\n    {\n      \"column\": \"fnlwgt\",\n      \"properties\": {\n        \"dtype\": \"number\",\n        \"std\": 105549,\n        \"min\": 12285,\n        \"max\": 1484705,\n        \"num_unique_values\": 21647,\n        \"samples\": [\n          78036,\n          201481,\n          558490\n        ],\n        \"semantic_type\": \"\",\n        \"description\": \"\"\n      }\n    },\n    {\n      \"column\": \"education\",\n      \"properties\": {\n        \"dtype\": \"category\",\n        \"num_unique_values\": 16,\n        \"samples\": [\n          \" Bachelors\",\n          \" HS-grad\",\n          \" Some-college\"\n        ],\n        \"semantic_type\": \"\",\n        \"description\": \"\"\n      }\n    },\n    {\n      \"column\": \"education-num\",\n      \"properties\": {\n        \"dtype\": \"number\",\n        \"std\": 2,\n        \"min\": 1,\n        \"max\": 16,\n        \"num_unique_values\": 16,\n        \"samples\": [\n          13,\n          9,\n          10\n        ],\n        \"semantic_type\": \"\",\n        \"description\": \"\"\n      }\n    },\n    {\n      \"column\": \"marital-status\",\n      \"properties\": {\n        \"dtype\": \"category\",\n        \"num_unique_values\": 7,\n        \"samples\": [\n          \" Married-civ-spouse\",\n          \" Divorced\",\n          \" Married-AF-spouse\"\n        ],\n        \"semantic_type\": \"\",\n        \"description\": \"\"\n      }\n    },\n    {\n      \"column\": \"occupation\",\n      \"properties\": {\n        \"dtype\": \"category\",\n        \"num_unique_values\": 15,\n        \"samples\": [\n          \" Machine-op-inspct\",\n          \" ?\",\n          \" Exec-managerial\"\n        ],\n        \"semantic_type\": \"\",\n        \"description\": \"\"\n      }\n    },\n    {\n      \"column\": \"relationship\",\n      \"properties\": {\n        \"dtype\": \"category\",\n        \"num_unique_values\": 6,\n        \"samples\": [\n          \" Husband\",\n          \" Not-in-family\",\n          \" Other-relative\"\n        ],\n        \"semantic_type\": \"\",\n        \"description\": \"\"\n      }\n    },\n    {\n      \"column\": \"race\",\n      \"properties\": {\n        \"dtype\": \"category\",\n        \"num_unique_values\": 5,\n        \"samples\": [\n          \" Black\",\n          \" Other\",\n          \" Asian-Pac-Islander\"\n        ],\n        \"semantic_type\": \"\",\n        \"description\": \"\"\n      }\n    },\n    {\n      \"column\": \"sex\",\n      \"properties\": {\n        \"dtype\": \"category\",\n        \"num_unique_values\": 2,\n        \"samples\": [\n          \" Female\",\n          \" Male\"\n        ],\n        \"semantic_type\": \"\",\n        \"description\": \"\"\n      }\n    },\n    {\n      \"column\": \"capital-gain\",\n      \"properties\": {\n        \"dtype\": \"number\",\n        \"std\": 7385,\n        \"min\": 0,\n        \"max\": 99999,\n        \"num_unique_values\": 119,\n        \"samples\": [\n          3781,\n          15831\n        ],\n        \"semantic_type\": \"\",\n        \"description\": \"\"\n      }\n    },\n    {\n      \"column\": \"capital-loss\",\n      \"properties\": {\n        \"dtype\": \"number\",\n        \"std\": 402,\n        \"min\": 0,\n        \"max\": 4356,\n        \"num_unique_values\": 92,\n        \"samples\": [\n          419,\n          2051\n        ],\n        \"semantic_type\": \"\",\n        \"description\": \"\"\n      }\n    },\n    {\n      \"column\": \"hours-per-week\",\n      \"properties\": {\n        \"dtype\": \"number\",\n        \"std\": 12,\n        \"min\": 1,\n        \"max\": 99,\n        \"num_unique_values\": 94,\n        \"samples\": [\n          6,\n          22\n        ],\n        \"semantic_type\": \"\",\n        \"description\": \"\"\n      }\n    },\n    {\n      \"column\": \"native-country\",\n      \"properties\": {\n        \"dtype\": \"category\",\n        \"num_unique_values\": 42,\n        \"samples\": [\n          \" El-Salvador\",\n          \" Philippines\"\n        ],\n        \"semantic_type\": \"\",\n        \"description\": \"\"\n      }\n    },\n    {\n      \"column\": \"salary\",\n      \"properties\": {\n        \"dtype\": \"category\",\n        \"num_unique_values\": 2,\n        \"samples\": [\n          \" >50K\",\n          \" <=50K\"\n        ],\n        \"semantic_type\": \"\",\n        \"description\": \"\"\n      }\n    }\n  ]\n}"
            }
          },
          "metadata": {},
          "execution_count": 8
        }
      ],
      "source": [
        "df.head(3)"
      ]
    },
    {
      "cell_type": "code",
      "execution_count": null,
      "metadata": {
        "colab": {
          "base_uri": "https://localhost:8080/"
        },
        "id": "0ohzKNmSn_mO",
        "outputId": "e5f61470-9fd6-4b64-b9af-44e37dcd5267"
      },
      "outputs": [
        {
          "output_type": "stream",
          "name": "stdout",
          "text": [
            "<class 'pandas.core.frame.DataFrame'>\n",
            "RangeIndex: 32560 entries, 0 to 32559\n",
            "Data columns (total 15 columns):\n",
            " #   Column          Non-Null Count  Dtype \n",
            "---  ------          --------------  ----- \n",
            " 0   age             32560 non-null  int64 \n",
            " 1   workclass       32560 non-null  object\n",
            " 2   fnlwgt          32560 non-null  int64 \n",
            " 3   education       32560 non-null  object\n",
            " 4   education-num   32560 non-null  int64 \n",
            " 5   marital-status  32560 non-null  object\n",
            " 6   occupation      32560 non-null  object\n",
            " 7   relationship    32560 non-null  object\n",
            " 8   race            32560 non-null  object\n",
            " 9   sex             32560 non-null  object\n",
            " 10  capital-gain    32560 non-null  int64 \n",
            " 11  capital-loss    32560 non-null  int64 \n",
            " 12  hours-per-week  32560 non-null  int64 \n",
            " 13  native-country  32560 non-null  object\n",
            " 14  salary          32560 non-null  object\n",
            "dtypes: int64(6), object(9)\n",
            "memory usage: 3.7+ MB\n"
          ]
        }
      ],
      "source": [
        "df.info()"
      ]
    },
    {
      "cell_type": "markdown",
      "source": [
        "**In data set we have 6 numerical columns and 9 object columns**"
      ],
      "metadata": {
        "id": "_jjJ7006Agvj"
      }
    },
    {
      "cell_type": "markdown",
      "source": [
        "We will explore data to know how many quantitative and catagorical columns we have"
      ],
      "metadata": {
        "id": "BW70CBKKAw2R"
      }
    },
    {
      "cell_type": "markdown",
      "source": [
        "# - Salary analysis"
      ],
      "metadata": {
        "id": "d42ASljbBNJa"
      }
    },
    {
      "cell_type": "code",
      "execution_count": null,
      "metadata": {
        "colab": {
          "base_uri": "https://localhost:8080/"
        },
        "id": "AmfZuwCciakU",
        "outputId": "1c40745c-df2f-448a-c374-ef3e594b3a7d"
      },
      "outputs": [
        {
          "output_type": "execute_result",
          "data": {
            "text/plain": [
              "salary\n",
              " <=50K    24719\n",
              " >50K      7841\n",
              "Name: count, dtype: int64"
            ]
          },
          "metadata": {},
          "execution_count": 12
        }
      ],
      "source": [
        "df.salary.value_counts()"
      ]
    },
    {
      "cell_type": "markdown",
      "source": [
        "Its a catagorical column , we will use it to catogarize and analyze data"
      ],
      "metadata": {
        "id": "Gxcl65Y4BR2u"
      }
    },
    {
      "cell_type": "code",
      "execution_count": null,
      "metadata": {
        "colab": {
          "base_uri": "https://localhost:8080/",
          "height": 521
        },
        "id": "leXD8-pdi-bK",
        "outputId": "6c3ab1be-6ef6-4eca-f954-e58115653cc1"
      },
      "outputs": [
        {
          "output_type": "execute_result",
          "data": {
            "text/plain": [
              "<Axes: xlabel='salary', ylabel='count'>"
            ]
          },
          "metadata": {},
          "execution_count": 13
        },
        {
          "output_type": "display_data",
          "data": {
            "text/plain": [
              "<Figure size 800x550 with 1 Axes>"
            ],
            "image/png": "[encoded data removed]"
          },
          "metadata": {}
        }
      ],
      "source": [
        "sns.countplot(x=\"salary\",data=df,hue=\"salary\")"
      ]
    },
    {
      "cell_type": "markdown",
      "metadata": {
        "id": "fjo2EUmzj4q0"
      },
      "source": [
        "within our data set around 1 out of 3 people make more than 50k"
      ]
    },
    {
      "cell_type": "markdown",
      "source": [
        "# - Sex (Gender) analysis"
      ],
      "metadata": {
        "id": "HhmtoivfBhMn"
      }
    },
    {
      "cell_type": "markdown",
      "metadata": {
        "id": "EIF0krxDml3C"
      },
      "source": [
        "**how many males and females representation**"
      ]
    },
    {
      "cell_type": "code",
      "execution_count": null,
      "metadata": {
        "colab": {
          "base_uri": "https://localhost:8080/"
        },
        "id": "dBBD-Vs-jNWi",
        "outputId": "05d4844a-16e0-4f7e-8e34-112a569541f1"
      },
      "outputs": [
        {
          "output_type": "execute_result",
          "data": {
            "text/plain": [
              "sex\n",
              " Male      21789\n",
              " Female    10771\n",
              "Name: count, dtype: int64"
            ]
          },
          "metadata": {},
          "execution_count": 14
        }
      ],
      "source": [
        "df['sex'].value_counts()"
      ]
    },
    {
      "cell_type": "markdown",
      "metadata": {
        "id": "Cyth2vTlm2OC"
      },
      "source": [
        "**visually**"
      ]
    },
    {
      "cell_type": "code",
      "execution_count": null,
      "metadata": {
        "colab": {
          "base_uri": "https://localhost:8080/",
          "height": 521
        },
        "id": "n37U2zjHmj_C",
        "outputId": "c3ff7638-6214-407a-f387-a4aafdc3a154"
      },
      "outputs": [
        {
          "output_type": "execute_result",
          "data": {
            "text/plain": [
              "<Axes: xlabel='sex', ylabel='count'>"
            ]
          },
          "metadata": {},
          "execution_count": 15
        },
        {
          "output_type": "display_data",
          "data": {
            "text/plain": [
              "<Figure size 800x550 with 1 Axes>"
            ],
            "image/png": "[encoded data removed]"
          },
          "metadata": {}
        }
      ],
      "source": [
        "sns.countplot(x=\"sex\",data=df,hue=\"sex\")"
      ]
    },
    {
      "cell_type": "markdown",
      "source": [
        "# - Mean of female age\n",
        "**We will also look at the distribution of female salary**"
      ],
      "metadata": {
        "id": "Arco_PjIBqIV"
      }
    },
    {
      "cell_type": "code",
      "execution_count": null,
      "metadata": {
        "id": "ieMps7n7qmYk"
      },
      "outputs": [],
      "source": [
        "df['sex']=df['sex'].str.strip()"
      ]
    },
    {
      "cell_type": "code",
      "execution_count": null,
      "metadata": {
        "colab": {
          "base_uri": "https://localhost:8080/"
        },
        "id": "Q5F8YkCDoQp2",
        "outputId": "f8bf5fc3-9a75-454c-a3a5-109a4459eed8"
      },
      "outputs": [
        {
          "output_type": "execute_result",
          "data": {
            "text/plain": [
              "36.85823043357163"
            ]
          },
          "metadata": {},
          "execution_count": 17
        }
      ],
      "source": [
        "df.loc[df['sex']==\"Female\",\"age\"].mean()"
      ]
    },
    {
      "cell_type": "markdown",
      "source": [
        "Distribution"
      ],
      "metadata": {
        "id": "EPSnTJU2Ck3M"
      }
    },
    {
      "cell_type": "code",
      "execution_count": null,
      "metadata": {
        "colab": {
          "base_uri": "https://localhost:8080/",
          "height": 521
        },
        "id": "SfHIYPVLa08H",
        "outputId": "c6f13400-a527-4860-fc34-46724335d4fe"
      },
      "outputs": [
        {
          "output_type": "execute_result",
          "data": {
            "text/plain": [
              "<Axes: xlabel='age'>"
            ]
          },
          "metadata": {},
          "execution_count": 18
        },
        {
          "output_type": "display_data",
          "data": {
            "text/plain": [
              "<Figure size 800x550 with 1 Axes>"
            ],
            "image/png": "[encoded data removed]"
          },
          "metadata": {}
        }
      ],
      "source": [
        "sns.boxplot(x=df.loc[df['sex']==\"Female\",\"age\"],data=df)"
      ]
    },
    {
      "cell_type": "markdown",
      "source": [
        "# - EDA on the data"
      ],
      "metadata": {
        "id": "646ijj9XM53-"
      }
    },
    {
      "cell_type": "markdown",
      "metadata": {
        "id": "jooXrnekq62R"
      },
      "source": [
        "**getting the german citizens proportion**"
      ]
    },
    {
      "cell_type": "code",
      "execution_count": null,
      "metadata": {
        "colab": {
          "base_uri": "https://localhost:8080/"
        },
        "id": "BBkpSfCRnSY5",
        "outputId": "fc7c859b-28d4-4ff5-bb5d-37018e44ba14"
      },
      "outputs": [
        {
          "output_type": "stream",
          "name": "stdout",
          "text": [
            "0.004207616707616707\n"
          ]
        }
      ],
      "source": [
        "germany=df['native-country'].str.contains(\"Germany\").sum()\n",
        "proportion=germany/df.shape[0]\n",
        "print(proportion)"
      ]
    },
    {
      "cell_type": "code",
      "execution_count": null,
      "metadata": {
        "colab": {
          "base_uri": "https://localhost:8080/",
          "height": 1000
        },
        "id": "EPasmEnpaKpL",
        "outputId": "a2367161-b38d-46ad-9a30-4eaaa6c38245"
      },
      "outputs": [
        {
          "output_type": "execute_result",
          "data": {
            "text/plain": [
              "([0,\n",
              "  1,\n",
              "  2,\n",
              "  3,\n",
              "  4,\n",
              "  5,\n",
              "  6,\n",
              "  7,\n",
              "  8,\n",
              "  9,\n",
              "  10,\n",
              "  11,\n",
              "  12,\n",
              "  13,\n",
              "  14,\n",
              "  15,\n",
              "  16,\n",
              "  17,\n",
              "  18,\n",
              "  19,\n",
              "  20,\n",
              "  21,\n",
              "  22,\n",
              "  23,\n",
              "  24,\n",
              "  25,\n",
              "  26,\n",
              "  27,\n",
              "  28,\n",
              "  29,\n",
              "  30,\n",
              "  31,\n",
              "  32,\n",
              "  33,\n",
              "  34,\n",
              "  35,\n",
              "  36,\n",
              "  37,\n",
              "  38,\n",
              "  39,\n",
              "  40,\n",
              "  41],\n",
              " [Text(0, 0, ' United-States'),\n",
              "  Text(1, 0, ' Cuba'),\n",
              "  Text(2, 0, ' Jamaica'),\n",
              "  Text(3, 0, ' India'),\n",
              "  Text(4, 0, ' ?'),\n",
              "  Text(5, 0, ' Mexico'),\n",
              "  Text(6, 0, ' South'),\n",
              "  Text(7, 0, ' Puerto-Rico'),\n",
              "  Text(8, 0, ' Honduras'),\n",
              "  Text(9, 0, ' England'),\n",
              "  Text(10, 0, ' Canada'),\n",
              "  Text(11, 0, ' Germany'),\n",
              "  Text(12, 0, ' Iran'),\n",
              "  Text(13, 0, ' Philippines'),\n",
              "  Text(14, 0, ' Italy'),\n",
              "  Text(15, 0, ' Poland'),\n",
              "  Text(16, 0, ' Columbia'),\n",
              "  Text(17, 0, ' Cambodia'),\n",
              "  Text(18, 0, ' Thailand'),\n",
              "  Text(19, 0, ' Ecuador'),\n",
              "  Text(20, 0, ' Laos'),\n",
              "  Text(21, 0, ' Taiwan'),\n",
              "  Text(22, 0, ' Haiti'),\n",
              "  Text(23, 0, ' Portugal'),\n",
              "  Text(24, 0, ' Dominican-Republic'),\n",
              "  Text(25, 0, ' El-Salvador'),\n",
              "  Text(26, 0, ' France'),\n",
              "  Text(27, 0, ' Guatemala'),\n",
              "  Text(28, 0, ' China'),\n",
              "  Text(29, 0, ' Japan'),\n",
              "  Text(30, 0, ' Yugoslavia'),\n",
              "  Text(31, 0, ' Peru'),\n",
              "  Text(32, 0, ' Outlying-US(Guam-USVI-etc)'),\n",
              "  Text(33, 0, ' Scotland'),\n",
              "  Text(34, 0, ' Trinadad&Tobago'),\n",
              "  Text(35, 0, ' Greece'),\n",
              "  Text(36, 0, ' Nicaragua'),\n",
              "  Text(37, 0, ' Vietnam'),\n",
              "  Text(38, 0, ' Hong'),\n",
              "  Text(39, 0, ' Ireland'),\n",
              "  Text(40, 0, ' Hungary'),\n",
              "  Text(41, 0, ' Holand-Netherlands')])"
            ]
          },
          "metadata": {},
          "execution_count": 20
        },
        {
          "output_type": "display_data",
          "data": {
            "text/plain": [
              "<Figure size 800x550 with 1 Axes>"
            ],
            "image/png": "[encoded data removed]"
          },
          "metadata": {}
        }
      ],
      "source": [
        "sns.countplot(x=\"native-country\",data=df,hue=\"native-country\")\n",
        "plt.xticks(rotation=90)"
      ]
    },
    {
      "cell_type": "markdown",
      "metadata": {
        "id": "aTKj1TUExIYl"
      },
      "source": [
        "**finding mean and stds of age who get less than and more than 50K**"
      ]
    },
    {
      "cell_type": "code",
      "execution_count": null,
      "metadata": {
        "colab": {
          "base_uri": "https://localhost:8080/"
        },
        "collapsed": true,
        "id": "6j2cRHmnrMgs",
        "outputId": "5274e21f-866e-42b8-e12d-a33395accf45"
      },
      "outputs": [
        {
          "output_type": "stream",
          "name": "stdout",
          "text": [
            "salary greater than 50k has : mean   NaN\n",
            "std    NaN\n",
            "Name: age, dtype: float64\n",
            "salary lesser or equal to 50k has : mean   NaN\n",
            "std    NaN\n",
            "Name: age, dtype: float64\n"
          ]
        }
      ],
      "source": [
        "age1 = df.loc[df[\"salary\"] == \">50K\", \"age\"].agg(['mean', 'std'])\n",
        "age2 = df.loc[df[\"salary\"] == \"<=50K\", \"age\"].agg(['mean', 'std'])\n",
        "print(f'salary greater than 50k has : {age1}')\n",
        "print(f'salary lesser or equal to 50k has : {age2}')"
      ]
    },
    {
      "cell_type": "markdown",
      "metadata": {
        "id": "AZPdwVGyFQb8"
      },
      "source": [
        "**those who has salary greater than 50k what is theri education**"
      ]
    },
    {
      "cell_type": "code",
      "execution_count": null,
      "metadata": {
        "colab": {
          "base_uri": "https://localhost:8080/"
        },
        "id": "HpiqyQGLy0OR",
        "outputId": "5bd0ead3-a0c5-47c9-acc7-5fed4878b000"
      },
      "outputs": [
        {
          "output_type": "execute_result",
          "data": {
            "text/plain": [
              "array([], dtype=object)"
            ]
          },
          "metadata": {},
          "execution_count": 22
        }
      ],
      "source": [
        "df.loc[df['salary'] == \">50K\",'education'].unique()"
      ]
    },
    {
      "cell_type": "code",
      "execution_count": null,
      "metadata": {
        "colab": {
          "base_uri": "https://localhost:8080/",
          "height": 886
        },
        "id": "p4sT2nuUi4VS",
        "outputId": "cfb0161d-3f98-41cd-cdfd-b304e6703238"
      },
      "outputs": [
        {
          "output_type": "execute_result",
          "data": {
            "text/plain": [
              "([0, 1, 2, 3, 4, 5, 6, 7, 8, 9, 10, 11, 12, 13, 14, 15],\n",
              " [Text(0, 0, ' Bachelors'),\n",
              "  Text(1, 0, ' HS-grad'),\n",
              "  Text(2, 0, ' 11th'),\n",
              "  Text(3, 0, ' Masters'),\n",
              "  Text(4, 0, ' 9th'),\n",
              "  Text(5, 0, ' Some-college'),\n",
              "  Text(6, 0, ' Assoc-acdm'),\n",
              "  Text(7, 0, ' Assoc-voc'),\n",
              "  Text(8, 0, ' 7th-8th'),\n",
              "  Text(9, 0, ' Doctorate'),\n",
              "  Text(10, 0, ' Prof-school'),\n",
              "  Text(11, 0, ' 5th-6th'),\n",
              "  Text(12, 0, ' 10th'),\n",
              "  Text(13, 0, ' 1st-4th'),\n",
              "  Text(14, 0, ' Preschool'),\n",
              "  Text(15, 0, ' 12th')])"
            ]
          },
          "metadata": {},
          "execution_count": 23
        },
        {
          "output_type": "display_data",
          "data": {
            "text/plain": [
              "<Figure size 800x550 with 1 Axes>"
            ],
            "image/png": "[encoded data removed]"
          },
          "metadata": {}
        }
      ],
      "source": [
        "sns.countplot(x='education',hue='salary',data=df)\n",
        "plt.xticks(rotation=90)"
      ]
    },
    {
      "cell_type": "code",
      "execution_count": null,
      "metadata": {
        "colab": {
          "base_uri": "https://localhost:8080/"
        },
        "id": "ZLU-XbHVFB8e",
        "outputId": "7eb8a680-6861-4a72-b17a-7ff788ecd38c"
      },
      "outputs": [
        {
          "output_type": "stream",
          "name": "stdout",
          "text": [
            "race :  Amer-Indian-Eskimo,sex : Female\n",
            "count    119.000000\n",
            "mean      37.117647\n",
            "std       13.114991\n",
            "min       17.000000\n",
            "25%       27.000000\n",
            "50%       36.000000\n",
            "75%       46.000000\n",
            "max       80.000000\n",
            "Name: age, dtype: float64\n",
            "race :  Amer-Indian-Eskimo,sex : Male\n",
            "count    192.000000\n",
            "mean      37.208333\n",
            "std       12.049563\n",
            "min       17.000000\n",
            "25%       28.000000\n",
            "50%       35.000000\n",
            "75%       45.000000\n",
            "max       82.000000\n",
            "Name: age, dtype: float64\n",
            "race :  Asian-Pac-Islander,sex : Female\n",
            "count    346.000000\n",
            "mean      35.089595\n",
            "std       12.300845\n",
            "min       17.000000\n",
            "25%       25.000000\n",
            "50%       33.000000\n",
            "75%       43.750000\n",
            "max       75.000000\n",
            "Name: age, dtype: float64\n",
            "race :  Asian-Pac-Islander,sex : Male\n",
            "count    693.000000\n",
            "mean      39.073593\n",
            "std       12.883944\n",
            "min       18.000000\n",
            "25%       29.000000\n",
            "50%       37.000000\n",
            "75%       46.000000\n",
            "max       90.000000\n",
            "Name: age, dtype: float64\n",
            "race :  Black,sex : Female\n",
            "count    1555.000000\n",
            "mean       37.854019\n",
            "std        12.637197\n",
            "min        17.000000\n",
            "25%        28.000000\n",
            "50%        37.000000\n",
            "75%        46.000000\n",
            "max        90.000000\n",
            "Name: age, dtype: float64\n",
            "race :  Black,sex : Male\n",
            "count    1569.000000\n",
            "mean       37.682600\n",
            "std        12.882612\n",
            "min        17.000000\n",
            "25%        27.000000\n",
            "50%        36.000000\n",
            "75%        46.000000\n",
            "max        90.000000\n",
            "Name: age, dtype: float64\n",
            "race :  Other,sex : Female\n",
            "count    109.000000\n",
            "mean      31.678899\n",
            "std       11.631599\n",
            "min       17.000000\n",
            "25%       23.000000\n",
            "50%       29.000000\n",
            "75%       39.000000\n",
            "max       74.000000\n",
            "Name: age, dtype: float64\n",
            "race :  Other,sex : Male\n",
            "count    162.000000\n",
            "mean      34.654321\n",
            "std       11.355531\n",
            "min       17.000000\n",
            "25%       26.000000\n",
            "50%       32.000000\n",
            "75%       42.000000\n",
            "max       77.000000\n",
            "Name: age, dtype: float64\n",
            "race :  White,sex : Female\n",
            "count    8642.000000\n",
            "mean       36.811618\n",
            "std        14.329093\n",
            "min        17.000000\n",
            "25%        25.000000\n",
            "50%        35.000000\n",
            "75%        46.000000\n",
            "max        90.000000\n",
            "Name: age, dtype: float64\n",
            "race :  White,sex : Male\n",
            "count    19173.000000\n",
            "mean        39.652532\n",
            "std         13.436378\n",
            "min         17.000000\n",
            "25%         29.000000\n",
            "50%         38.000000\n",
            "75%         49.000000\n",
            "max         90.000000\n",
            "Name: age, dtype: float64\n"
          ]
        }
      ],
      "source": [
        "for (race,sex),sub_df in df.groupby(['race','sex']):\n",
        "  print(\"race : {0},sex : {1}\".format(race,sex))\n",
        "  print(sub_df['age'].describe())"
      ]
    },
    {
      "cell_type": "markdown",
      "source": [
        "# - Marital status of salary catagory"
      ],
      "metadata": {
        "id": "gPhLUAgbCxKs"
      }
    },
    {
      "cell_type": "markdown",
      "metadata": {
        "id": "zSsuyot4GqR0"
      },
      "source": [
        "**looking at the people who earn more than 50k what is their marital status**"
      ]
    },
    {
      "cell_type": "markdown",
      "metadata": {
        "id": "SJeiXedjJ4Rv"
      },
      "source": [
        "**needed to use strip to get rid of spaces**"
      ]
    },
    {
      "cell_type": "code",
      "execution_count": null,
      "metadata": {
        "id": "TiM_UXFZJntL"
      },
      "outputs": [],
      "source": [
        "df[\"marital-status\"]=df['marital-status'].str.strip()"
      ]
    },
    {
      "cell_type": "code",
      "execution_count": null,
      "metadata": {
        "colab": {
          "base_uri": "https://localhost:8080/"
        },
        "id": "ahIbNCPvGlBZ",
        "outputId": "e9f18aa4-8cc3-4f38-fa45-87cef620ef14"
      },
      "outputs": [
        {
          "output_type": "execute_result",
          "data": {
            "text/plain": [
              "salary\n",
              " <=50K    1961\n",
              " >50K      372\n",
              "Name: count, dtype: int64"
            ]
          },
          "metadata": {},
          "execution_count": 26
        }
      ],
      "source": [
        "df.loc[(df['sex'] == \"Male\") & (df['marital-status'].isin([\"Never-Married\",\"Separated\",\"Divorced\",\"Widowed\"])),\"salary\"].value_counts()"
      ]
    },
    {
      "cell_type": "code",
      "execution_count": null,
      "metadata": {
        "colab": {
          "base_uri": "https://localhost:8080/"
        },
        "id": "rHNnr9qgHp95",
        "outputId": "5ba6f6c3-7872-4e9b-ead7-cc140bceb0fa"
      },
      "outputs": [
        {
          "output_type": "execute_result",
          "data": {
            "text/plain": [
              "salary\n",
              " <=50K    7576\n",
              " >50K     5965\n",
              "Name: count, dtype: int64"
            ]
          },
          "metadata": {},
          "execution_count": 28
        }
      ],
      "source": [
        "df.loc[(df['sex'] == \"Male\") & (df['marital-status'].str.startswith('Married')),\"salary\"].value_counts()"
      ]
    },
    {
      "cell_type": "code",
      "execution_count": null,
      "metadata": {
        "colab": {
          "base_uri": "https://localhost:8080/"
        },
        "id": "OJyPuV0MH9fE",
        "outputId": "a48199a0-b236-4f67-d83c-4ce90906afac"
      },
      "outputs": [
        {
          "output_type": "execute_result",
          "data": {
            "text/plain": [
              "marital-status\n",
              "Married-civ-spouse       14976\n",
              "Never-married            10682\n",
              "Divorced                  4443\n",
              "Separated                 1025\n",
              "Widowed                    993\n",
              "Married-spouse-absent      418\n",
              "Married-AF-spouse           23\n",
              "Name: count, dtype: int64"
            ]
          },
          "metadata": {},
          "execution_count": 30
        }
      ],
      "source": [
        "df['marital-status'].value_counts()"
      ]
    },
    {
      "cell_type": "markdown",
      "metadata": {
        "id": "6MvXbuYwKNP7"
      },
      "source": [
        "**getting the numbers of hours people work in a week and who amongst them get the big pie.**"
      ]
    },
    {
      "cell_type": "code",
      "execution_count": null,
      "metadata": {
        "colab": {
          "base_uri": "https://localhost:8080/"
        },
        "id": "3IrSFqxdII6z",
        "outputId": "a8c5cf5b-8b6a-4cea-f2ba-c537a3355383"
      },
      "outputs": [
        {
          "output_type": "stream",
          "name": "stdout",
          "text": [
            "Max time - 99 hours/week .\n"
          ]
        }
      ],
      "source": [
        "max_load=df[\"hours-per-week\"].max()\n",
        "print(\"Max time - {0} hours/week .\".format(max_load))"
      ]
    },
    {
      "cell_type": "code",
      "execution_count": null,
      "metadata": {
        "colab": {
          "base_uri": "https://localhost:8080/"
        },
        "id": "AmUvzYC5K1o6",
        "outputId": "8524572d-192a-4a4c-e72f-cd330b04ba5a"
      },
      "outputs": [
        {
          "output_type": "stream",
          "name": "stdout",
          "text": [
            "total number of such hard workers 85\n"
          ]
        }
      ],
      "source": [
        "workaholics=df[df['hours-per-week'] == max_load].shape[0]\n",
        "print(\"total number of such hard workers {0}\".format(workaholics))"
      ]
    },
    {
      "cell_type": "code",
      "execution_count": null,
      "metadata": {
        "colab": {
          "base_uri": "https://localhost:8080/"
        },
        "id": "FxdnM4sPLFIx",
        "outputId": "ae30ba79-577e-4500-d020-6afef816e527"
      },
      "outputs": [
        {
          "output_type": "stream",
          "name": "stdout",
          "text": [
            "percentage of rich among them 0%\n"
          ]
        }
      ],
      "source": [
        "rich_people=float(df[(df['hours-per-week'] == max_load) & (df['salary'] == \">50K\")].shape[0])/workaholics\n",
        "print(\"percentage of rich among them {0}%\".format(int(100*rich_people)))"
      ]
    },
    {
      "cell_type": "markdown",
      "metadata": {
        "id": "i6BPfG-pMznz"
      },
      "source": [
        "**those who work 99 hours a week only 29% earn more than 50K**"
      ]
    },
    {
      "cell_type": "markdown",
      "metadata": {
        "id": "5jijo6VaOABd"
      },
      "source": [
        "**now looking at the salary and country and their mean working hours**"
      ]
    },
    {
      "cell_type": "code",
      "execution_count": null,
      "metadata": {
        "colab": {
          "base_uri": "https://localhost:8080/",
          "height": 1000
        },
        "id": "2v1c9Fn0Moqp",
        "outputId": "f7ecbe64-1cae-4be5-bb0b-2673d91c9c47"
      },
      "outputs": [
        {
          "output_type": "execute_result",
          "data": {
            "text/plain": [
              "salary                           <=50K       >50K\n",
              "native-country                                   \n",
              " ?                           40.164760  45.547945\n",
              " Cambodia                    41.416667  40.000000\n",
              " Canada                      37.914634  45.641026\n",
              " China                       37.381818  38.900000\n",
              " Columbia                    38.684211  50.000000\n",
              " Cuba                        37.985714  42.440000\n",
              " Dominican-Republic          42.338235  47.000000\n",
              " Ecuador                     38.041667  48.750000\n",
              " El-Salvador                 36.030928  45.000000\n",
              " England                     40.483333  44.533333\n",
              " France                      41.058824  50.750000\n",
              " Germany                     39.139785  44.977273\n",
              " Greece                      41.809524  50.625000\n",
              " Guatemala                   39.360656  36.666667\n",
              " Haiti                       36.325000  42.750000\n",
              " Holand-Netherlands          40.000000        NaN\n",
              " Honduras                    34.333333  60.000000\n",
              " Hong                        39.142857  45.000000\n",
              " Hungary                     31.300000  50.000000\n",
              " India                       38.233333  46.475000\n",
              " Iran                        41.440000  47.500000\n",
              " Ireland                     40.947368  48.000000\n",
              " Italy                       39.625000  45.400000\n",
              " Jamaica                     38.239437  41.100000\n",
              " Japan                       41.000000  47.958333\n",
              " Laos                        40.375000  40.000000\n",
              " Mexico                      40.003279  46.575758\n",
              " Nicaragua                   36.093750  37.500000\n",
              " Outlying-US(Guam-USVI-etc)  41.857143        NaN\n",
              " Peru                        35.068966  40.000000\n",
              " Philippines                 38.065693  43.032787\n",
              " Poland                      38.166667  39.000000\n",
              " Portugal                    41.939394  41.500000\n",
              " Puerto-Rico                 38.470588  39.416667\n",
              " Scotland                    39.444444  46.666667\n",
              " South                       40.156250  51.437500\n",
              " Taiwan                      33.774194  46.800000\n",
              " Thailand                    42.866667  58.333333\n",
              " Trinadad&Tobago             37.058824  40.000000\n",
              " United-States               38.799073  45.505369\n",
              " Vietnam                     37.193548  39.200000\n",
              " Yugoslavia                  41.600000  49.500000"
            ],
            "text/html": [
              "\n",
              "  <div id=\"df-0c9cc97f-9be6-49d6-ab7a-c0d50e9b4cb2\" class=\"colab-df-container\">\n",
              "    <div>\n",
              "<style scoped>\n",
              "    .dataframe tbody tr th:only-of-type {\n",
              "        vertical-align: middle;\n",
              "    }\n",
              "\n",
              "    .dataframe tbody tr th {\n",
              "        vertical-align: top;\n",
              "    }\n",
              "\n",
              "    .dataframe thead th {\n",
              "        text-align: right;\n",
              "    }\n",
              "</style>\n",
              "<table border=\"1\" class=\"dataframe\">\n",
              "  <thead>\n",
              "    <tr style=\"text-align: right;\">\n",
              "      <th>salary</th>\n",
              "      <th>&lt;=50K</th>\n",
              "      <th>&gt;50K</th>\n",
              "    </tr>\n",
              "    <tr>\n",
              "      <th>native-country</th>\n",
              "      <th></th>\n",
              "      <th></th>\n",
              "    </tr>\n",
              "  </thead>\n",
              "  <tbody>\n",
              "    <tr>\n",
              "      <th>?</th>\n",
              "      <td>40.164760</td>\n",
              "      <td>45.547945</td>\n",
              "    </tr>\n",
              "    <tr>\n",
              "      <th>Cambodia</th>\n",
              "      <td>41.416667</td>\n",
              "      <td>40.000000</td>\n",
              "    </tr>\n",
              "    <tr>\n",
              "      <th>Canada</th>\n",
              "      <td>37.914634</td>\n",
              "      <td>45.641026</td>\n",
              "    </tr>\n",
              "    <tr>\n",
              "      <th>China</th>\n",
              "      <td>37.381818</td>\n",
              "      <td>38.900000</td>\n",
              "    </tr>\n",
              "    <tr>\n",
              "      <th>Columbia</th>\n",
              "      <td>38.684211</td>\n",
              "      <td>50.000000</td>\n",
              "    </tr>\n",
              "    <tr>\n",
              "      <th>Cuba</th>\n",
              "      <td>37.985714</td>\n",
              "      <td>42.440000</td>\n",
              "    </tr>\n",
              "    <tr>\n",
              "      <th>Dominican-Republic</th>\n",
              "      <td>42.338235</td>\n",
              "      <td>47.000000</td>\n",
              "    </tr>\n",
              "    <tr>\n",
              "      <th>Ecuador</th>\n",
              "      <td>38.041667</td>\n",
              "      <td>48.750000</td>\n",
              "    </tr>\n",
              "    <tr>\n",
              "      <th>El-Salvador</th>\n",
              "      <td>36.030928</td>\n",
              "      <td>45.000000</td>\n",
              "    </tr>\n",
              "    <tr>\n",
              "      <th>England</th>\n",
              "      <td>40.483333</td>\n",
              "      <td>44.533333</td>\n",
              "    </tr>\n",
              "    <tr>\n",
              "      <th>France</th>\n",
              "      <td>41.058824</td>\n",
              "      <td>50.750000</td>\n",
              "    </tr>\n",
              "    <tr>\n",
              "      <th>Germany</th>\n",
              "      <td>39.139785</td>\n",
              "      <td>44.977273</td>\n",
              "    </tr>\n",
              "    <tr>\n",
              "      <th>Greece</th>\n",
              "      <td>41.809524</td>\n",
              "      <td>50.625000</td>\n",
              "    </tr>\n",
              "    <tr>\n",
              "      <th>Guatemala</th>\n",
              "      <td>39.360656</td>\n",
              "      <td>36.666667</td>\n",
              "    </tr>\n",
              "    <tr>\n",
              "      <th>Haiti</th>\n",
              "      <td>36.325000</td>\n",
              "      <td>42.750000</td>\n",
              "    </tr>\n",
              "    <tr>\n",
              "      <th>Holand-Netherlands</th>\n",
              "      <td>40.000000</td>\n",
              "      <td>NaN</td>\n",
              "    </tr>\n",
              "    <tr>\n",
              "      <th>Honduras</th>\n",
              "      <td>34.333333</td>\n",
              "      <td>60.000000</td>\n",
              "    </tr>\n",
              "    <tr>\n",
              "      <th>Hong</th>\n",
              "      <td>39.142857</td>\n",
              "      <td>45.000000</td>\n",
              "    </tr>\n",
              "    <tr>\n",
              "      <th>Hungary</th>\n",
              "      <td>31.300000</td>\n",
              "      <td>50.000000</td>\n",
              "    </tr>\n",
              "    <tr>\n",
              "      <th>India</th>\n",
              "      <td>38.233333</td>\n",
              "      <td>46.475000</td>\n",
              "    </tr>\n",
              "    <tr>\n",
              "      <th>Iran</th>\n",
              "      <td>41.440000</td>\n",
              "      <td>47.500000</td>\n",
              "    </tr>\n",
              "    <tr>\n",
              "      <th>Ireland</th>\n",
              "      <td>40.947368</td>\n",
              "      <td>48.000000</td>\n",
              "    </tr>\n",
              "    <tr>\n",
              "      <th>Italy</th>\n",
              "      <td>39.625000</td>\n",
              "      <td>45.400000</td>\n",
              "    </tr>\n",
              "    <tr>\n",
              "      <th>Jamaica</th>\n",
              "      <td>38.239437</td>\n",
              "      <td>41.100000</td>\n",
              "    </tr>\n",
              "    <tr>\n",
              "      <th>Japan</th>\n",
              "      <td>41.000000</td>\n",
              "      <td>47.958333</td>\n",
              "    </tr>\n",
              "    <tr>\n",
              "      <th>Laos</th>\n",
              "      <td>40.375000</td>\n",
              "      <td>40.000000</td>\n",
              "    </tr>\n",
              "    <tr>\n",
              "      <th>Mexico</th>\n",
              "      <td>40.003279</td>\n",
              "      <td>46.575758</td>\n",
              "    </tr>\n",
              "    <tr>\n",
              "      <th>Nicaragua</th>\n",
              "      <td>36.093750</td>\n",
              "      <td>37.500000</td>\n",
              "    </tr>\n",
              "    <tr>\n",
              "      <th>Outlying-US(Guam-USVI-etc)</th>\n",
              "      <td>41.857143</td>\n",
              "      <td>NaN</td>\n",
              "    </tr>\n",
              "    <tr>\n",
              "      <th>Peru</th>\n",
              "      <td>35.068966</td>\n",
              "      <td>40.000000</td>\n",
              "    </tr>\n",
              "    <tr>\n",
              "      <th>Philippines</th>\n",
              "      <td>38.065693</td>\n",
              "      <td>43.032787</td>\n",
              "    </tr>\n",
              "    <tr>\n",
              "      <th>Poland</th>\n",
              "      <td>38.166667</td>\n",
              "      <td>39.000000</td>\n",
              "    </tr>\n",
              "    <tr>\n",
              "      <th>Portugal</th>\n",
              "      <td>41.939394</td>\n",
              "      <td>41.500000</td>\n",
              "    </tr>\n",
              "    <tr>\n",
              "      <th>Puerto-Rico</th>\n",
              "      <td>38.470588</td>\n",
              "      <td>39.416667</td>\n",
              "    </tr>\n",
              "    <tr>\n",
              "      <th>Scotland</th>\n",
              "      <td>39.444444</td>\n",
              "      <td>46.666667</td>\n",
              "    </tr>\n",
              "    <tr>\n",
              "      <th>South</th>\n",
              "      <td>40.156250</td>\n",
              "      <td>51.437500</td>\n",
              "    </tr>\n",
              "    <tr>\n",
              "      <th>Taiwan</th>\n",
              "      <td>33.774194</td>\n",
              "      <td>46.800000</td>\n",
              "    </tr>\n",
              "    <tr>\n",
              "      <th>Thailand</th>\n",
              "      <td>42.866667</td>\n",
              "      <td>58.333333</td>\n",
              "    </tr>\n",
              "    <tr>\n",
              "      <th>Trinadad&amp;Tobago</th>\n",
              "      <td>37.058824</td>\n",
              "      <td>40.000000</td>\n",
              "    </tr>\n",
              "    <tr>\n",
              "      <th>United-States</th>\n",
              "      <td>38.799073</td>\n",
              "      <td>45.505369</td>\n",
              "    </tr>\n",
              "    <tr>\n",
              "      <th>Vietnam</th>\n",
              "      <td>37.193548</td>\n",
              "      <td>39.200000</td>\n",
              "    </tr>\n",
              "    <tr>\n",
              "      <th>Yugoslavia</th>\n",
              "      <td>41.600000</td>\n",
              "      <td>49.500000</td>\n",
              "    </tr>\n",
              "  </tbody>\n",
              "</table>\n",
              "</div>\n",
              "    <div class=\"colab-df-buttons\">\n",
              "\n",
              "  <div class=\"colab-df-container\">\n",
              "    <button class=\"colab-df-convert\" onclick=\"convertToInteractive('df-0c9cc97f-9be6-49d6-ab7a-c0d50e9b4cb2')\"\n",
              "            title=\"Convert this dataframe to an interactive table.\"\n",
              "            style=\"display:none;\">\n",
              "\n",
              "  <svg xmlns=\"http://www.w3.org/2000/svg\" height=\"24px\" viewBox=\"0 -960 960 960\">\n",
              "    <path d=\"M120-120v-720h720v720H120Zm60-500h600v-160H180v160Zm220 220h160v-160H400v160Zm0 220h160v-160H400v160ZM180-400h160v-160H180v160Zm440 0h160v-160H620v160ZM180-180h160v-160H180v160Zm440 0h160v-160H620v160Z\"/>\n",
              "  </svg>\n",
              "    </button>\n",
              "\n",
              "  <style>\n",
              "    .colab-df-container {\n",
              "      display:flex;\n",
              "      gap: 12px;\n",
              "    }\n",
              "\n",
              "    .colab-df-convert {\n",
              "      background-color: #E8F0FE;\n",
              "      border: none;\n",
              "      border-radius: 50%;\n",
              "      cursor: pointer;\n",
              "      display: none;\n",
              "      fill: #1967D2;\n",
              "      height: 32px;\n",
              "      padding: 0 0 0 0;\n",
              "      width: 32px;\n",
              "    }\n",
              "\n",
              "    .colab-df-convert:hover {\n",
              "      background-color: #E2EBFA;\n",
              "      box-shadow: 0px 1px 2px rgba(60, 64, 67, 0.3), 0px 1px 3px 1px rgba(60, 64, 67, 0.15);\n",
              "      fill: #174EA6;\n",
              "    }\n",
              "\n",
              "    .colab-df-buttons div {\n",
              "      margin-bottom: 4px;\n",
              "    }\n",
              "\n",
              "    [theme=dark] .colab-df-convert {\n",
              "      background-color: #3B4455;\n",
              "      fill: #D2E3FC;\n",
              "    }\n",
              "\n",
              "    [theme=dark] .colab-df-convert:hover {\n",
              "      background-color: #434B5C;\n",
              "      box-shadow: 0px 1px 3px 1px rgba(0, 0, 0, 0.15);\n",
              "      filter: drop-shadow(0px 1px 2px rgba(0, 0, 0, 0.3));\n",
              "      fill: #FFFFFF;\n",
              "    }\n",
              "  </style>\n",
              "\n",
              "    <script>\n",
              "      const buttonEl =\n",
              "        document.querySelector('#df-0c9cc97f-9be6-49d6-ab7a-c0d50e9b4cb2 button.colab-df-convert');\n",
              "      buttonEl.style.display =\n",
              "        google.colab.kernel.accessAllowed ? 'block' : 'none';\n",
              "\n",
              "      async function convertToInteractive(key) {\n",
              "        const element = document.querySelector('#df-0c9cc97f-9be6-49d6-ab7a-c0d50e9b4cb2');\n",
              "        const dataTable =\n",
              "          await google.colab.kernel.invokeFunction('convertToInteractive',\n",
              "                                                    [key], {});\n",
              "        if (!dataTable) return;\n",
              "\n",
              "        const docLinkHtml = 'Like what you see? Visit the ' +\n",
              "          '<a target=\"_blank\" href=https://colab.research.google.com/notebooks/data_table.ipynb>data table notebook</a>'\n",
              "          + ' to learn more about interactive tables.';\n",
              "        element.innerHTML = '';\n",
              "        dataTable['output_type'] = 'display_data';\n",
              "        await google.colab.output.renderOutput(dataTable, element);\n",
              "        const docLink = document.createElement('div');\n",
              "        docLink.innerHTML = docLinkHtml;\n",
              "        element.appendChild(docLink);\n",
              "      }\n",
              "    </script>\n",
              "  </div>\n",
              "\n",
              "\n",
              "<div id=\"df-f64f4e75-6baf-42b2-9840-eb654bee0470\">\n",
              "  <button class=\"colab-df-quickchart\" onclick=\"quickchart('df-f64f4e75-6baf-42b2-9840-eb654bee0470')\"\n",
              "            title=\"Suggest charts\"\n",
              "            style=\"display:none;\">\n",
              "\n",
              "<svg xmlns=\"http://www.w3.org/2000/svg\" height=\"24px\"viewBox=\"0 0 24 24\"\n",
              "     width=\"24px\">\n",
              "    <g>\n",
              "        <path d=\"M19 3H5c-1.1 0-2 .9-2 2v14c0 1.1.9 2 2 2h14c1.1 0 2-.9 2-2V5c0-1.1-.9-2-2-2zM9 17H7v-7h2v7zm4 0h-2V7h2v10zm4 0h-2v-4h2v4z\"/>\n",
              "    </g>\n",
              "</svg>\n",
              "  </button>\n",
              "\n",
              "<style>\n",
              "  .colab-df-quickchart {\n",
              "      --bg-color: #E8F0FE;\n",
              "      --fill-color: #1967D2;\n",
              "      --hover-bg-color: #E2EBFA;\n",
              "      --hover-fill-color: #174EA6;\n",
              "      --disabled-fill-color: #AAA;\n",
              "      --disabled-bg-color: #DDD;\n",
              "  }\n",
              "\n",
              "  [theme=dark] .colab-df-quickchart {\n",
              "      --bg-color: #3B4455;\n",
              "      --fill-color: #D2E3FC;\n",
              "      --hover-bg-color: #434B5C;\n",
              "      --hover-fill-color: #FFFFFF;\n",
              "      --disabled-bg-color: #3B4455;\n",
              "      --disabled-fill-color: #666;\n",
              "  }\n",
              "\n",
              "  .colab-df-quickchart {\n",
              "    background-color: var(--bg-color);\n",
              "    border: none;\n",
              "    border-radius: 50%;\n",
              "    cursor: pointer;\n",
              "    display: none;\n",
              "    fill: var(--fill-color);\n",
              "    height: 32px;\n",
              "    padding: 0;\n",
              "    width: 32px;\n",
              "  }\n",
              "\n",
              "  .colab-df-quickchart:hover {\n",
              "    background-color: var(--hover-bg-color);\n",
              "    box-shadow: 0 1px 2px rgba(60, 64, 67, 0.3), 0 1px 3px 1px rgba(60, 64, 67, 0.15);\n",
              "    fill: var(--button-hover-fill-color);\n",
              "  }\n",
              "\n",
              "  .colab-df-quickchart-complete:disabled,\n",
              "  .colab-df-quickchart-complete:disabled:hover {\n",
              "    background-color: var(--disabled-bg-color);\n",
              "    fill: var(--disabled-fill-color);\n",
              "    box-shadow: none;\n",
              "  }\n",
              "\n",
              "  .colab-df-spinner {\n",
              "    border: 2px solid var(--fill-color);\n",
              "    border-color: transparent;\n",
              "    border-bottom-color: var(--fill-color);\n",
              "    animation:\n",
              "      spin 1s steps(1) infinite;\n",
              "  }\n",
              "\n",
              "  @keyframes spin {\n",
              "    0% {\n",
              "      border-color: transparent;\n",
              "      border-bottom-color: var(--fill-color);\n",
              "      border-left-color: var(--fill-color);\n",
              "    }\n",
              "    20% {\n",
              "      border-color: transparent;\n",
              "      border-left-color: var(--fill-color);\n",
              "      border-top-color: var(--fill-color);\n",
              "    }\n",
              "    30% {\n",
              "      border-color: transparent;\n",
              "      border-left-color: var(--fill-color);\n",
              "      border-top-color: var(--fill-color);\n",
              "      border-right-color: var(--fill-color);\n",
              "    }\n",
              "    40% {\n",
              "      border-color: transparent;\n",
              "      border-right-color: var(--fill-color);\n",
              "      border-top-color: var(--fill-color);\n",
              "    }\n",
              "    60% {\n",
              "      border-color: transparent;\n",
              "      border-right-color: var(--fill-color);\n",
              "    }\n",
              "    80% {\n",
              "      border-color: transparent;\n",
              "      border-right-color: var(--fill-color);\n",
              "      border-bottom-color: var(--fill-color);\n",
              "    }\n",
              "    90% {\n",
              "      border-color: transparent;\n",
              "      border-bottom-color: var(--fill-color);\n",
              "    }\n",
              "  }\n",
              "</style>\n",
              "\n",
              "  <script>\n",
              "    async function quickchart(key) {\n",
              "      const quickchartButtonEl =\n",
              "        document.querySelector('#' + key + ' button');\n",
              "      quickchartButtonEl.disabled = true;  // To prevent multiple clicks.\n",
              "      quickchartButtonEl.classList.add('colab-df-spinner');\n",
              "      try {\n",
              "        const charts = await google.colab.kernel.invokeFunction(\n",
              "            'suggestCharts', [key], {});\n",
              "      } catch (error) {\n",
              "        console.error('Error during call to suggestCharts:', error);\n",
              "      }\n",
              "      quickchartButtonEl.classList.remove('colab-df-spinner');\n",
              "      quickchartButtonEl.classList.add('colab-df-quickchart-complete');\n",
              "    }\n",
              "    (() => {\n",
              "      let quickchartButtonEl =\n",
              "        document.querySelector('#df-f64f4e75-6baf-42b2-9840-eb654bee0470 button');\n",
              "      quickchartButtonEl.style.display =\n",
              "        google.colab.kernel.accessAllowed ? 'block' : 'none';\n",
              "    })();\n",
              "  </script>\n",
              "</div>\n",
              "\n",
              "    </div>\n",
              "  </div>\n"
            ],
            "application/vnd.google.colaboratory.intrinsic+json": {
              "type": "dataframe",
              "summary": "{\n  \"name\": \"pd\",\n  \"rows\": 42,\n  \"fields\": [\n    {\n      \"column\": \"native-country\",\n      \"properties\": {\n        \"dtype\": \"string\",\n        \"num_unique_values\": 42,\n        \"samples\": [\n          \" Laos\",\n          \" Guatemala\",\n          \" El-Salvador\"\n        ],\n        \"semantic_type\": \"\",\n        \"description\": \"\"\n      }\n    },\n    {\n      \"column\": \" <=50K\",\n      \"properties\": {\n        \"dtype\": \"number\",\n        \"std\": 2.491854579376999,\n        \"min\": 31.3,\n        \"max\": 42.86666666666667,\n        \"num_unique_values\": 42,\n        \"samples\": [\n          40.375,\n          39.36065573770492,\n          36.03092783505155\n        ],\n        \"semantic_type\": \"\",\n        \"description\": \"\"\n      }\n    },\n    {\n      \"column\": \" >50K\",\n      \"properties\": {\n        \"dtype\": \"number\",\n        \"std\": 5.158199529623572,\n        \"min\": 36.666666666666664,\n        \"max\": 60.0,\n        \"num_unique_values\": 35,\n        \"samples\": [\n          41.5,\n          36.666666666666664,\n          43.032786885245905\n        ],\n        \"semantic_type\": \"\",\n        \"description\": \"\"\n      }\n    }\n  ]\n}"
            }
          },
          "metadata": {},
          "execution_count": 34
        }
      ],
      "source": [
        "pd.crosstab(df[\"native-country\"],df['salary'],values=df['hours-per-week'],aggfunc=np.mean)"
      ]
    },
    {
      "cell_type": "code",
      "execution_count": null,
      "metadata": {
        "id": "iZ5VCR3iNw4M"
      },
      "outputs": [],
      "source": []
    }
  ],
  "metadata": {
    "colab": {
      "provenance": []
    },
    "kernelspec": {
      "display_name": "Python 3",
      "name": "python3"
    },
    "language_info": {
      "name": "python"
    }
  },
  "nbformat": 4,
  "nbformat_minor": 0
}